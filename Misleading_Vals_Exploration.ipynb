{
 "cells": [
  {
   "cell_type": "code",
   "execution_count": 1,
   "metadata": {},
   "outputs": [],
   "source": [
    "import functions, dataframe_cleaning\n",
    "functions.import_all(globals())\n",
    "df = dataframe_cleaning.clean_null_columns(df)"
   ]
  },
  {
   "cell_type": "code",
   "execution_count": 6,
   "metadata": {},
   "outputs": [
    {
     "data": {
      "text/plain": [
       "int64      11\n",
       "float64     6\n",
       "object      2\n",
       "uint8       2\n",
       "dtype: int64"
      ]
     },
     "execution_count": 6,
     "metadata": {},
     "output_type": "execute_result"
    }
   ],
   "source": [
    "#now to explore value counts for all the columns to find placeholder values\n",
    "#also try and find discrete data that should be represented as categorical data\n",
    "df.dtypes.value_counts()"
   ]
  },
  {
   "cell_type": "code",
   "execution_count": 9,
   "metadata": {},
   "outputs": [],
   "source": [
    "int_df = df.select_dtypes(include=\"int64\")\n",
    "float_df = df.select_dtypes(include=\"float64\")\n",
    "obj_df = df.select_dtypes(include=\"object\")\n",
    "uint_df = df.select_dtypes(include=\"uint8\")"
   ]
  },
  {
   "cell_type": "code",
   "execution_count": 11,
   "metadata": {},
   "outputs": [
    {
     "data": {
      "text/html": [
       "<div>\n",
       "<style scoped>\n",
       "    .dataframe tbody tr th:only-of-type {\n",
       "        vertical-align: middle;\n",
       "    }\n",
       "\n",
       "    .dataframe tbody tr th {\n",
       "        vertical-align: top;\n",
       "    }\n",
       "\n",
       "    .dataframe thead th {\n",
       "        text-align: right;\n",
       "    }\n",
       "</style>\n",
       "<table border=\"1\" class=\"dataframe\">\n",
       "  <thead>\n",
       "    <tr style=\"text-align: right;\">\n",
       "      <th></th>\n",
       "      <th>price</th>\n",
       "      <th>bathrooms</th>\n",
       "      <th>floors</th>\n",
       "      <th>view</th>\n",
       "      <th>lat</th>\n",
       "      <th>long</th>\n",
       "    </tr>\n",
       "  </thead>\n",
       "  <tbody>\n",
       "    <tr>\n",
       "      <th>0</th>\n",
       "      <td>221900.0</td>\n",
       "      <td>1.00</td>\n",
       "      <td>1.0</td>\n",
       "      <td>0.0</td>\n",
       "      <td>47.5112</td>\n",
       "      <td>-122.257</td>\n",
       "    </tr>\n",
       "    <tr>\n",
       "      <th>1</th>\n",
       "      <td>538000.0</td>\n",
       "      <td>2.25</td>\n",
       "      <td>2.0</td>\n",
       "      <td>0.0</td>\n",
       "      <td>47.7210</td>\n",
       "      <td>-122.319</td>\n",
       "    </tr>\n",
       "    <tr>\n",
       "      <th>2</th>\n",
       "      <td>180000.0</td>\n",
       "      <td>1.00</td>\n",
       "      <td>1.0</td>\n",
       "      <td>0.0</td>\n",
       "      <td>47.7379</td>\n",
       "      <td>-122.233</td>\n",
       "    </tr>\n",
       "    <tr>\n",
       "      <th>3</th>\n",
       "      <td>604000.0</td>\n",
       "      <td>3.00</td>\n",
       "      <td>1.0</td>\n",
       "      <td>0.0</td>\n",
       "      <td>47.5208</td>\n",
       "      <td>-122.393</td>\n",
       "    </tr>\n",
       "    <tr>\n",
       "      <th>4</th>\n",
       "      <td>510000.0</td>\n",
       "      <td>2.00</td>\n",
       "      <td>1.0</td>\n",
       "      <td>0.0</td>\n",
       "      <td>47.6168</td>\n",
       "      <td>-122.045</td>\n",
       "    </tr>\n",
       "  </tbody>\n",
       "</table>\n",
       "</div>"
      ],
      "text/plain": [
       "      price  bathrooms  floors  view      lat     long\n",
       "0  221900.0       1.00     1.0   0.0  47.5112 -122.257\n",
       "1  538000.0       2.25     2.0   0.0  47.7210 -122.319\n",
       "2  180000.0       1.00     1.0   0.0  47.7379 -122.233\n",
       "3  604000.0       3.00     1.0   0.0  47.5208 -122.393\n",
       "4  510000.0       2.00     1.0   0.0  47.6168 -122.045"
      ]
     },
     "execution_count": 11,
     "metadata": {},
     "output_type": "execute_result"
    }
   ],
   "source": [
    "#sanity_check\n",
    "float_df.head()"
   ]
  },
  {
   "cell_type": "code",
   "execution_count": 13,
   "metadata": {},
   "outputs": [
    {
     "data": {
      "text/plain": [
       "array([[<matplotlib.axes._subplots.AxesSubplot object at 0x1c1fbf88d0>,\n",
       "        <matplotlib.axes._subplots.AxesSubplot object at 0x1c201f1da0>],\n",
       "       [<matplotlib.axes._subplots.AxesSubplot object at 0x1c20223358>,\n",
       "        <matplotlib.axes._subplots.AxesSubplot object at 0x1c202488d0>],\n",
       "       [<matplotlib.axes._subplots.AxesSubplot object at 0x1c20271e48>,\n",
       "        <matplotlib.axes._subplots.AxesSubplot object at 0x1c202a2400>]],\n",
       "      dtype=object)"
      ]
     },
     "execution_count": 13,
     "metadata": {},
     "output_type": "execute_result"
    },
    {
     "data": {
      "image/png": "[encoded data removed]",
      "text/plain": [
       "<Figure size 432x288 with 6 Axes>"
      ]
     },
     "metadata": {
      "needs_background": "light"
     },
     "output_type": "display_data"
    }
   ],
   "source": [
    "float_df.hist()"
   ]
  },
  {
   "cell_type": "code",
   "execution_count": 15,
   "metadata": {},
   "outputs": [
    {
     "data": {
      "text/html": [
       "<div>\n",
       "<style scoped>\n",
       "    .dataframe tbody tr th:only-of-type {\n",
       "        vertical-align: middle;\n",
       "    }\n",
       "\n",
       "    .dataframe tbody tr th {\n",
       "        vertical-align: top;\n",
       "    }\n",
       "\n",
       "    .dataframe thead th {\n",
       "        text-align: right;\n",
       "    }\n",
       "</style>\n",
       "<table border=\"1\" class=\"dataframe\">\n",
       "  <thead>\n",
       "    <tr style=\"text-align: right;\">\n",
       "      <th></th>\n",
       "      <th>price</th>\n",
       "      <th>bathrooms</th>\n",
       "      <th>floors</th>\n",
       "      <th>view</th>\n",
       "      <th>lat</th>\n",
       "      <th>long</th>\n",
       "    </tr>\n",
       "  </thead>\n",
       "  <tbody>\n",
       "    <tr>\n",
       "      <th>count</th>\n",
       "      <td>2.159700e+04</td>\n",
       "      <td>21597.000000</td>\n",
       "      <td>21597.000000</td>\n",
       "      <td>21597.000000</td>\n",
       "      <td>21597.000000</td>\n",
       "      <td>21597.000000</td>\n",
       "    </tr>\n",
       "    <tr>\n",
       "      <th>mean</th>\n",
       "      <td>5.402966e+05</td>\n",
       "      <td>2.115826</td>\n",
       "      <td>1.494096</td>\n",
       "      <td>0.233863</td>\n",
       "      <td>47.560093</td>\n",
       "      <td>-122.213982</td>\n",
       "    </tr>\n",
       "    <tr>\n",
       "      <th>std</th>\n",
       "      <td>3.673681e+05</td>\n",
       "      <td>0.768984</td>\n",
       "      <td>0.539683</td>\n",
       "      <td>0.764569</td>\n",
       "      <td>0.138552</td>\n",
       "      <td>0.140724</td>\n",
       "    </tr>\n",
       "    <tr>\n",
       "      <th>min</th>\n",
       "      <td>7.800000e+04</td>\n",
       "      <td>0.500000</td>\n",
       "      <td>1.000000</td>\n",
       "      <td>0.000000</td>\n",
       "      <td>47.155900</td>\n",
       "      <td>-122.519000</td>\n",
       "    </tr>\n",
       "    <tr>\n",
       "      <th>25%</th>\n",
       "      <td>3.220000e+05</td>\n",
       "      <td>1.750000</td>\n",
       "      <td>1.000000</td>\n",
       "      <td>0.000000</td>\n",
       "      <td>47.471100</td>\n",
       "      <td>-122.328000</td>\n",
       "    </tr>\n",
       "    <tr>\n",
       "      <th>50%</th>\n",
       "      <td>4.500000e+05</td>\n",
       "      <td>2.250000</td>\n",
       "      <td>1.500000</td>\n",
       "      <td>0.000000</td>\n",
       "      <td>47.571800</td>\n",
       "      <td>-122.231000</td>\n",
       "    </tr>\n",
       "    <tr>\n",
       "      <th>75%</th>\n",
       "      <td>6.450000e+05</td>\n",
       "      <td>2.500000</td>\n",
       "      <td>2.000000</td>\n",
       "      <td>0.000000</td>\n",
       "      <td>47.678000</td>\n",
       "      <td>-122.125000</td>\n",
       "    </tr>\n",
       "    <tr>\n",
       "      <th>max</th>\n",
       "      <td>7.700000e+06</td>\n",
       "      <td>8.000000</td>\n",
       "      <td>3.500000</td>\n",
       "      <td>4.000000</td>\n",
       "      <td>47.777600</td>\n",
       "      <td>-121.315000</td>\n",
       "    </tr>\n",
       "  </tbody>\n",
       "</table>\n",
       "</div>"
      ],
      "text/plain": [
       "              price     bathrooms        floors          view           lat  \\\n",
       "count  2.159700e+04  21597.000000  21597.000000  21597.000000  21597.000000   \n",
       "mean   5.402966e+05      2.115826      1.494096      0.233863     47.560093   \n",
       "std    3.673681e+05      0.768984      0.539683      0.764569      0.138552   \n",
       "min    7.800000e+04      0.500000      1.000000      0.000000     47.155900   \n",
       "25%    3.220000e+05      1.750000      1.000000      0.000000     47.471100   \n",
       "50%    4.500000e+05      2.250000      1.500000      0.000000     47.571800   \n",
       "75%    6.450000e+05      2.500000      2.000000      0.000000     47.678000   \n",
       "max    7.700000e+06      8.000000      3.500000      4.000000     47.777600   \n",
       "\n",
       "               long  \n",
       "count  21597.000000  \n",
       "mean    -122.213982  \n",
       "std        0.140724  \n",
       "min     -122.519000  \n",
       "25%     -122.328000  \n",
       "50%     -122.231000  \n",
       "75%     -122.125000  \n",
       "max     -121.315000  "
      ]
     },
     "execution_count": 15,
     "metadata": {},
     "output_type": "execute_result"
    }
   ],
   "source": [
    "float_df.describe()\n",
    "#there does not appear to be any placeholder values (except view which I want to revisit)"
   ]
  },
  {
   "cell_type": "code",
   "execution_count": 16,
   "metadata": {},
   "outputs": [
    {
     "data": {
      "text/plain": [
       "array([[<matplotlib.axes._subplots.AxesSubplot object at 0x1c20ab36a0>,\n",
       "        <matplotlib.axes._subplots.AxesSubplot object at 0x1c209e3ef0>]],\n",
       "      dtype=object)"
      ]
     },
     "execution_count": 16,
     "metadata": {},
     "output_type": "execute_result"
    },
    {
     "data": {
      "image/png": "[encoded data removed]",
      "text/plain": [
       "<Figure size 432x288 with 2 Axes>"
      ]
     },
     "metadata": {
      "needs_background": "light"
     },
     "output_type": "display_data"
    }
   ],
   "source": [
    "uint_df.hist()\n",
    "#I actually created these values, - nothing to see here"
   ]
  },
  {
   "cell_type": "code",
   "execution_count": 18,
   "metadata": {},
   "outputs": [
    {
     "data": {
      "text/plain": [
       "array([[<matplotlib.axes._subplots.AxesSubplot object at 0x1c21193d30>,\n",
       "        <matplotlib.axes._subplots.AxesSubplot object at 0x1c2100b358>,\n",
       "        <matplotlib.axes._subplots.AxesSubplot object at 0x1c2125d358>],\n",
       "       [<matplotlib.axes._subplots.AxesSubplot object at 0x1c210c98d0>,\n",
       "        <matplotlib.axes._subplots.AxesSubplot object at 0x1c210f4e48>,\n",
       "        <matplotlib.axes._subplots.AxesSubplot object at 0x1c21303400>],\n",
       "       [<matplotlib.axes._subplots.AxesSubplot object at 0x1c21328978>,\n",
       "        <matplotlib.axes._subplots.AxesSubplot object at 0x1c21353f28>,\n",
       "        <matplotlib.axes._subplots.AxesSubplot object at 0x1c21353f60>],\n",
       "       [<matplotlib.axes._subplots.AxesSubplot object at 0x1c213aaa20>,\n",
       "        <matplotlib.axes._subplots.AxesSubplot object at 0x1c213d4f98>,\n",
       "        <matplotlib.axes._subplots.AxesSubplot object at 0x1c21403550>]],\n",
       "      dtype=object)"
      ]
     },
     "execution_count": 18,
     "metadata": {},
     "output_type": "execute_result"
    },
    {
     "data": {
      "image/png": "[encoded data removed]",
      "text/plain": [
       "<Figure size 1440x1440 with 12 Axes>"
      ]
     },
     "metadata": {
      "needs_background": "light"
     },
     "output_type": "display_data"
    }
   ],
   "source": [
    "int_df.hist(figsize=(20,20))"
   ]
  },
  {
   "cell_type": "code",
   "execution_count": 19,
   "metadata": {},
   "outputs": [
    {
     "data": {
      "text/html": [
       "<div>\n",
       "<style scoped>\n",
       "    .dataframe tbody tr th:only-of-type {\n",
       "        vertical-align: middle;\n",
       "    }\n",
       "\n",
       "    .dataframe tbody tr th {\n",
       "        vertical-align: top;\n",
       "    }\n",
       "\n",
       "    .dataframe thead th {\n",
       "        text-align: right;\n",
       "    }\n",
       "</style>\n",
       "<table border=\"1\" class=\"dataframe\">\n",
       "  <thead>\n",
       "    <tr style=\"text-align: right;\">\n",
       "      <th></th>\n",
       "      <th>id</th>\n",
       "      <th>bedrooms</th>\n",
       "      <th>sqft_living</th>\n",
       "      <th>sqft_lot</th>\n",
       "      <th>condition</th>\n",
       "      <th>grade</th>\n",
       "      <th>sqft_above</th>\n",
       "      <th>yr_built</th>\n",
       "      <th>zipcode</th>\n",
       "      <th>sqft_living15</th>\n",
       "      <th>sqft_lot15</th>\n",
       "    </tr>\n",
       "  </thead>\n",
       "  <tbody>\n",
       "    <tr>\n",
       "      <th>count</th>\n",
       "      <td>2.159700e+04</td>\n",
       "      <td>21597.000000</td>\n",
       "      <td>21597.000000</td>\n",
       "      <td>2.159700e+04</td>\n",
       "      <td>21597.000000</td>\n",
       "      <td>21597.000000</td>\n",
       "      <td>21597.000000</td>\n",
       "      <td>21597.000000</td>\n",
       "      <td>21597.000000</td>\n",
       "      <td>21597.000000</td>\n",
       "      <td>21597.000000</td>\n",
       "    </tr>\n",
       "    <tr>\n",
       "      <th>mean</th>\n",
       "      <td>4.580474e+09</td>\n",
       "      <td>3.373200</td>\n",
       "      <td>2080.321850</td>\n",
       "      <td>1.509941e+04</td>\n",
       "      <td>3.409825</td>\n",
       "      <td>7.657915</td>\n",
       "      <td>1788.596842</td>\n",
       "      <td>1970.999676</td>\n",
       "      <td>98077.951845</td>\n",
       "      <td>1986.620318</td>\n",
       "      <td>12758.283512</td>\n",
       "    </tr>\n",
       "    <tr>\n",
       "      <th>std</th>\n",
       "      <td>2.876736e+09</td>\n",
       "      <td>0.926299</td>\n",
       "      <td>918.106125</td>\n",
       "      <td>4.141264e+04</td>\n",
       "      <td>0.650546</td>\n",
       "      <td>1.173200</td>\n",
       "      <td>827.759761</td>\n",
       "      <td>29.375234</td>\n",
       "      <td>53.513072</td>\n",
       "      <td>685.230472</td>\n",
       "      <td>27274.441950</td>\n",
       "    </tr>\n",
       "    <tr>\n",
       "      <th>min</th>\n",
       "      <td>1.000102e+06</td>\n",
       "      <td>1.000000</td>\n",
       "      <td>370.000000</td>\n",
       "      <td>5.200000e+02</td>\n",
       "      <td>1.000000</td>\n",
       "      <td>3.000000</td>\n",
       "      <td>370.000000</td>\n",
       "      <td>1900.000000</td>\n",
       "      <td>98001.000000</td>\n",
       "      <td>399.000000</td>\n",
       "      <td>651.000000</td>\n",
       "    </tr>\n",
       "    <tr>\n",
       "      <th>25%</th>\n",
       "      <td>2.123049e+09</td>\n",
       "      <td>3.000000</td>\n",
       "      <td>1430.000000</td>\n",
       "      <td>5.040000e+03</td>\n",
       "      <td>3.000000</td>\n",
       "      <td>7.000000</td>\n",
       "      <td>1190.000000</td>\n",
       "      <td>1951.000000</td>\n",
       "      <td>98033.000000</td>\n",
       "      <td>1490.000000</td>\n",
       "      <td>5100.000000</td>\n",
       "    </tr>\n",
       "    <tr>\n",
       "      <th>50%</th>\n",
       "      <td>3.904930e+09</td>\n",
       "      <td>3.000000</td>\n",
       "      <td>1910.000000</td>\n",
       "      <td>7.618000e+03</td>\n",
       "      <td>3.000000</td>\n",
       "      <td>7.000000</td>\n",
       "      <td>1560.000000</td>\n",
       "      <td>1975.000000</td>\n",
       "      <td>98065.000000</td>\n",
       "      <td>1840.000000</td>\n",
       "      <td>7620.000000</td>\n",
       "    </tr>\n",
       "    <tr>\n",
       "      <th>75%</th>\n",
       "      <td>7.308900e+09</td>\n",
       "      <td>4.000000</td>\n",
       "      <td>2550.000000</td>\n",
       "      <td>1.068500e+04</td>\n",
       "      <td>4.000000</td>\n",
       "      <td>8.000000</td>\n",
       "      <td>2210.000000</td>\n",
       "      <td>1997.000000</td>\n",
       "      <td>98118.000000</td>\n",
       "      <td>2360.000000</td>\n",
       "      <td>10083.000000</td>\n",
       "    </tr>\n",
       "    <tr>\n",
       "      <th>max</th>\n",
       "      <td>9.900000e+09</td>\n",
       "      <td>33.000000</td>\n",
       "      <td>13540.000000</td>\n",
       "      <td>1.651359e+06</td>\n",
       "      <td>5.000000</td>\n",
       "      <td>13.000000</td>\n",
       "      <td>9410.000000</td>\n",
       "      <td>2015.000000</td>\n",
       "      <td>98199.000000</td>\n",
       "      <td>6210.000000</td>\n",
       "      <td>871200.000000</td>\n",
       "    </tr>\n",
       "  </tbody>\n",
       "</table>\n",
       "</div>"
      ],
      "text/plain": [
       "                 id      bedrooms   sqft_living      sqft_lot     condition  \\\n",
       "count  2.159700e+04  21597.000000  21597.000000  2.159700e+04  21597.000000   \n",
       "mean   4.580474e+09      3.373200   2080.321850  1.509941e+04      3.409825   \n",
       "std    2.876736e+09      0.926299    918.106125  4.141264e+04      0.650546   \n",
       "min    1.000102e+06      1.000000    370.000000  5.200000e+02      1.000000   \n",
       "25%    2.123049e+09      3.000000   1430.000000  5.040000e+03      3.000000   \n",
       "50%    3.904930e+09      3.000000   1910.000000  7.618000e+03      3.000000   \n",
       "75%    7.308900e+09      4.000000   2550.000000  1.068500e+04      4.000000   \n",
       "max    9.900000e+09     33.000000  13540.000000  1.651359e+06      5.000000   \n",
       "\n",
       "              grade    sqft_above      yr_built       zipcode  sqft_living15  \\\n",
       "count  21597.000000  21597.000000  21597.000000  21597.000000   21597.000000   \n",
       "mean       7.657915   1788.596842   1970.999676  98077.951845    1986.620318   \n",
       "std        1.173200    827.759761     29.375234     53.513072     685.230472   \n",
       "min        3.000000    370.000000   1900.000000  98001.000000     399.000000   \n",
       "25%        7.000000   1190.000000   1951.000000  98033.000000    1490.000000   \n",
       "50%        7.000000   1560.000000   1975.000000  98065.000000    1840.000000   \n",
       "75%        8.000000   2210.000000   1997.000000  98118.000000    2360.000000   \n",
       "max       13.000000   9410.000000   2015.000000  98199.000000    6210.000000   \n",
       "\n",
       "          sqft_lot15  \n",
       "count   21597.000000  \n",
       "mean    12758.283512  \n",
       "std     27274.441950  \n",
       "min       651.000000  \n",
       "25%      5100.000000  \n",
       "50%      7620.000000  \n",
       "75%     10083.000000  \n",
       "max    871200.000000  "
      ]
     },
     "execution_count": 19,
     "metadata": {},
     "output_type": "execute_result"
    }
   ],
   "source": [
    "int_df.describe()"
   ]
  },
  {
   "cell_type": "code",
   "execution_count": 22,
   "metadata": {},
   "outputs": [
    {
     "data": {
      "text/html": [
       "<div>\n",
       "<style scoped>\n",
       "    .dataframe tbody tr th:only-of-type {\n",
       "        vertical-align: middle;\n",
       "    }\n",
       "\n",
       "    .dataframe tbody tr th {\n",
       "        vertical-align: top;\n",
       "    }\n",
       "\n",
       "    .dataframe thead th {\n",
       "        text-align: right;\n",
       "    }\n",
       "</style>\n",
       "<table border=\"1\" class=\"dataframe\">\n",
       "  <thead>\n",
       "    <tr style=\"text-align: right;\">\n",
       "      <th></th>\n",
       "      <th>date</th>\n",
       "      <th>sqft_basement</th>\n",
       "    </tr>\n",
       "  </thead>\n",
       "  <tbody>\n",
       "    <tr>\n",
       "      <th>0</th>\n",
       "      <td>10/13/2014</td>\n",
       "      <td>0.0</td>\n",
       "    </tr>\n",
       "  </tbody>\n",
       "</table>\n",
       "</div>"
      ],
      "text/plain": [
       "         date sqft_basement\n",
       "0  10/13/2014           0.0"
      ]
     },
     "execution_count": 22,
     "metadata": {},
     "output_type": "execute_result"
    }
   ],
   "source": [
    "#again, nothing stands out as having placeholder values\n",
    "#what about the object dataframe?\n",
    "obj_df.head(1)"
   ]
  },
  {
   "cell_type": "code",
   "execution_count": 24,
   "metadata": {},
   "outputs": [
    {
     "data": {
      "text/plain": [
       "<matplotlib.axes._subplots.AxesSubplot at 0x1c2150d898>"
      ]
     },
     "execution_count": 24,
     "metadata": {},
     "output_type": "execute_result"
    },
    {
     "data": {
      "image/png": "[encoded data removed]",
      "text/plain": [
       "<Figure size 432x288 with 1 Axes>"
      ]
     },
     "metadata": {
      "needs_background": "light"
     },
     "output_type": "display_data"
    }
   ],
   "source": [
    "#something fishy is going on here...\n",
    "obj_df.sqft_basement.value_counts().plot.bar()"
   ]
  },
  {
   "cell_type": "code",
   "execution_count": 25,
   "metadata": {},
   "outputs": [
    {
     "data": {
      "text/html": [
       "<div>\n",
       "<style scoped>\n",
       "    .dataframe tbody tr th:only-of-type {\n",
       "        vertical-align: middle;\n",
       "    }\n",
       "\n",
       "    .dataframe tbody tr th {\n",
       "        vertical-align: top;\n",
       "    }\n",
       "\n",
       "    .dataframe thead th {\n",
       "        text-align: right;\n",
       "    }\n",
       "</style>\n",
       "<table border=\"1\" class=\"dataframe\">\n",
       "  <thead>\n",
       "    <tr style=\"text-align: right;\">\n",
       "      <th></th>\n",
       "      <th>date</th>\n",
       "      <th>sqft_basement</th>\n",
       "    </tr>\n",
       "  </thead>\n",
       "  <tbody>\n",
       "    <tr>\n",
       "      <th>count</th>\n",
       "      <td>21597</td>\n",
       "      <td>21597</td>\n",
       "    </tr>\n",
       "    <tr>\n",
       "      <th>unique</th>\n",
       "      <td>372</td>\n",
       "      <td>304</td>\n",
       "    </tr>\n",
       "    <tr>\n",
       "      <th>top</th>\n",
       "      <td>6/23/2014</td>\n",
       "      <td>0.0</td>\n",
       "    </tr>\n",
       "    <tr>\n",
       "      <th>freq</th>\n",
       "      <td>142</td>\n",
       "      <td>12826</td>\n",
       "    </tr>\n",
       "  </tbody>\n",
       "</table>\n",
       "</div>"
      ],
      "text/plain": [
       "             date sqft_basement\n",
       "count       21597         21597\n",
       "unique        372           304\n",
       "top     6/23/2014           0.0\n",
       "freq          142         12826"
      ]
     },
     "execution_count": 25,
     "metadata": {},
     "output_type": "execute_result"
    }
   ],
   "source": [
    "obj_df.describe()"
   ]
  },
  {
   "cell_type": "code",
   "execution_count": 32,
   "metadata": {},
   "outputs": [
    {
     "data": {
      "text/plain": [
       "'454/21597'"
      ]
     },
     "execution_count": 32,
     "metadata": {},
     "output_type": "execute_result"
    }
   ],
   "source": [
    "non_numeric_set = set()\n",
    "def is_numeric(string):\n",
    "    try:\n",
    "        float(string)\n",
    "        return True\n",
    "    except Exception as e:\n",
    "        non_numeric_set.add(string)\n",
    "        return False\n",
    "f\"{len(obj_df)-sum(obj_df.sqft_basement.apply(is_numeric))}/{len(obj_df)}\""
   ]
  },
  {
   "cell_type": "code",
   "execution_count": 31,
   "metadata": {},
   "outputs": [
    {
     "data": {
      "text/plain": [
       "{'?'}"
      ]
     },
     "execution_count": 31,
     "metadata": {},
     "output_type": "execute_result"
    }
   ],
   "source": [
    "#So there is one value preventing this column from casting to float\n",
    "non_numeric_set"
   ]
  },
  {
   "cell_type": "code",
   "execution_count": 51,
   "metadata": {},
   "outputs": [],
   "source": [
    "#Ideally I do not want to drop this column. How much noise will sticking the median in cause?\n",
    "bsmt_df = df.loc[:,[\"price\",\"sqft_basement\"]]\n",
    "dropped_bsmt = bsmt_df.drop(bsmt_df[bsmt_df.sqft_basement == \"?\"].index,axis=0)\n",
    "dropped_bsmt.sqft_basement = dropped_bsmt.sqft_basement.astype(dtype=\"float64\")\n",
    "\n",
    "bsmt_median = dropped_bsmt.sqft_basement.median()\n",
    "converted_bsmt = bsmt_df.copy()\n",
    "converted_bsmt.sqft_basement = bsmt_df.sqft_basement.apply(\n",
    "    lambda entry : bsmt_median if entry == \"?\" else entry)\n",
    "converted_bsmt.sqft_basement = converted_bsmt.sqft_basement.astype(\"float64\")\n"
   ]
  },
  {
   "cell_type": "code",
   "execution_count": 52,
   "metadata": {},
   "outputs": [
    {
     "data": {
      "text/plain": [
       "<matplotlib.collections.PathCollection at 0x1c22de2b70>"
      ]
     },
     "execution_count": 52,
     "metadata": {},
     "output_type": "execute_result"
    },
    {
     "data": {
      "image/png": "[encoded data removed]",
      "text/plain": [
       "<Figure size 432x288 with 2 Axes>"
      ]
     },
     "metadata": {
      "needs_background": "light"
     },
     "output_type": "display_data"
    }
   ],
   "source": [
    "fig,axes = plt.subplots(ncols=2)\n",
    "\n",
    "axes[0].scatter(x=dropped_bsmt.sqft_basement,y=dropped_bsmt.price)\n",
    "axes[1].scatter(x=converted_bsmt.sqft_basement,y=converted_bsmt.price)\n"
   ]
  },
  {
   "cell_type": "code",
   "execution_count": 53,
   "metadata": {},
   "outputs": [
    {
     "data": {
      "text/html": [
       "<div>\n",
       "<style scoped>\n",
       "    .dataframe tbody tr th:only-of-type {\n",
       "        vertical-align: middle;\n",
       "    }\n",
       "\n",
       "    .dataframe tbody tr th {\n",
       "        vertical-align: top;\n",
       "    }\n",
       "\n",
       "    .dataframe thead th {\n",
       "        text-align: right;\n",
       "    }\n",
       "</style>\n",
       "<table border=\"1\" class=\"dataframe\">\n",
       "  <thead>\n",
       "    <tr style=\"text-align: right;\">\n",
       "      <th></th>\n",
       "      <th>price</th>\n",
       "      <th>sqft_basement</th>\n",
       "    </tr>\n",
       "  </thead>\n",
       "  <tbody>\n",
       "    <tr>\n",
       "      <th>count</th>\n",
       "      <td>2.159700e+04</td>\n",
       "      <td>21597.000000</td>\n",
       "    </tr>\n",
       "    <tr>\n",
       "      <th>mean</th>\n",
       "      <td>5.402966e+05</td>\n",
       "      <td>285.716581</td>\n",
       "    </tr>\n",
       "    <tr>\n",
       "      <th>std</th>\n",
       "      <td>3.673681e+05</td>\n",
       "      <td>439.819830</td>\n",
       "    </tr>\n",
       "    <tr>\n",
       "      <th>min</th>\n",
       "      <td>7.800000e+04</td>\n",
       "      <td>0.000000</td>\n",
       "    </tr>\n",
       "    <tr>\n",
       "      <th>25%</th>\n",
       "      <td>3.220000e+05</td>\n",
       "      <td>0.000000</td>\n",
       "    </tr>\n",
       "    <tr>\n",
       "      <th>50%</th>\n",
       "      <td>4.500000e+05</td>\n",
       "      <td>0.000000</td>\n",
       "    </tr>\n",
       "    <tr>\n",
       "      <th>75%</th>\n",
       "      <td>6.450000e+05</td>\n",
       "      <td>550.000000</td>\n",
       "    </tr>\n",
       "    <tr>\n",
       "      <th>max</th>\n",
       "      <td>7.700000e+06</td>\n",
       "      <td>4820.000000</td>\n",
       "    </tr>\n",
       "  </tbody>\n",
       "</table>\n",
       "</div>"
      ],
      "text/plain": [
       "              price  sqft_basement\n",
       "count  2.159700e+04   21597.000000\n",
       "mean   5.402966e+05     285.716581\n",
       "std    3.673681e+05     439.819830\n",
       "min    7.800000e+04       0.000000\n",
       "25%    3.220000e+05       0.000000\n",
       "50%    4.500000e+05       0.000000\n",
       "75%    6.450000e+05     550.000000\n",
       "max    7.700000e+06    4820.000000"
      ]
     },
     "execution_count": 53,
     "metadata": {},
     "output_type": "execute_result"
    }
   ],
   "source": [
    "#uhoh, median and mean == 0\n",
    "converted_bsmt.describe()"
   ]
  },
  {
   "cell_type": "code",
   "execution_count": 60,
   "metadata": {},
   "outputs": [
    {
     "data": {
      "text/plain": [
       "<matplotlib.axes._subplots.AxesSubplot at 0x1c237a5a20>"
      ]
     },
     "execution_count": 60,
     "metadata": {},
     "output_type": "execute_result"
    },
    {
     "data": {
      "image/png": "[encoded data removed]",
      "text/plain": [
       "<Figure size 432x288 with 1 Axes>"
      ]
     },
     "metadata": {
      "needs_background": "light"
     },
     "output_type": "display_data"
    }
   ],
   "source": [
    "converted_bsmt.sqft_basement.hist(bins=30)"
   ]
  },
  {
   "cell_type": "code",
   "execution_count": 61,
   "metadata": {},
   "outputs": [
    {
     "data": {
      "text/plain": [
       "0.0       13280\n",
       "600.0       217\n",
       "500.0       209\n",
       "700.0       208\n",
       "800.0       201\n",
       "400.0       184\n",
       "1000.0      148\n",
       "900.0       142\n",
       "300.0       142\n",
       "200.0       105\n",
       "750.0       104\n",
       "450.0       103\n",
       "530.0       103\n",
       "480.0       103\n",
       "720.0        98\n",
       "620.0        90\n",
       "580.0        84\n",
       "840.0        83\n",
       "420.0        81\n",
       "860.0        79\n",
       "670.0        78\n",
       "1100.0       78\n",
       "780.0        76\n",
       "550.0        76\n",
       "650.0        75\n",
       "240.0        74\n",
       "680.0        73\n",
       "380.0        73\n",
       "850.0        72\n",
       "360.0        72\n",
       "          ...  \n",
       "2600.0        1\n",
       "2610.0        1\n",
       "276.0         1\n",
       "274.0         1\n",
       "1245.0        1\n",
       "143.0         1\n",
       "266.0         1\n",
       "862.0         1\n",
       "2180.0        1\n",
       "415.0         1\n",
       "243.0         1\n",
       "1135.0        1\n",
       "1525.0        1\n",
       "3000.0        1\n",
       "172.0         1\n",
       "225.0         1\n",
       "518.0         1\n",
       "935.0         1\n",
       "1920.0        1\n",
       "1930.0        1\n",
       "1990.0        1\n",
       "588.0         1\n",
       "1548.0        1\n",
       "2390.0        1\n",
       "602.0         1\n",
       "915.0         1\n",
       "295.0         1\n",
       "1281.0        1\n",
       "2130.0        1\n",
       "906.0         1\n",
       "Name: sqft_basement, Length: 303, dtype: int64"
      ]
     },
     "execution_count": 61,
     "metadata": {},
     "output_type": "execute_result"
    }
   ],
   "source": [
    "#Thats a lot of zeroes, but I am not conviced it represents missing data. Time to research if the location has a lot of properties without any basements\n",
    "converted_bsmt.sqft_basement.value_counts()"
   ]
  },
  {
   "cell_type": "code",
   "execution_count": 69,
   "metadata": {},
   "outputs": [],
   "source": [
    "#could not find anything, but if it represents no basement you would think that it would have correlation with price\n",
    "converted_bsmt[\"basement\"] = converted_bsmt.sqft_basement.apply(\n",
    "    lambda entry : 1 if entry > 0 else 0\n",
    ")"
   ]
  },
  {
   "cell_type": "code",
   "execution_count": 70,
   "metadata": {},
   "outputs": [
    {
     "data": {
      "text/plain": [
       "<matplotlib.collections.PathCollection at 0x1c23dfad68>"
      ]
     },
     "execution_count": 70,
     "metadata": {},
     "output_type": "execute_result"
    },
    {
     "data": {
      "image/png": "[encoded data removed]",
      "text/plain": [
       "<Figure size 432x288 with 1 Axes>"
      ]
     },
     "metadata": {
      "needs_background": "light"
     },
     "output_type": "display_data"
    }
   ],
   "source": [
    "#plt.scatter(x=converted_bsmt.basement,y=converted_bsmt.price)\n",
    "plt.scatter(y=converted_bsmt.basement,x=converted_bsmt.price)"
   ]
  },
  {
   "cell_type": "code",
   "execution_count": 71,
   "metadata": {},
   "outputs": [
    {
     "data": {
      "text/html": [
       "<table class=\"simpletable\">\n",
       "<caption>OLS Regression Results</caption>\n",
       "<tr>\n",
       "  <th>Dep. Variable:</th>          <td>price</td>      <th>  R-squared:         </th>  <td>   0.032</td>  \n",
       "</tr>\n",
       "<tr>\n",
       "  <th>Model:</th>                   <td>OLS</td>       <th>  Adj. R-squared:    </th>  <td>   0.032</td>  \n",
       "</tr>\n",
       "<tr>\n",
       "  <th>Method:</th>             <td>Least Squares</td>  <th>  F-statistic:       </th>  <td>   708.8</td>  \n",
       "</tr>\n",
       "<tr>\n",
       "  <th>Date:</th>             <td>Sun, 05 May 2019</td> <th>  Prob (F-statistic):</th>  <td>1.12e-153</td> \n",
       "</tr>\n",
       "<tr>\n",
       "  <th>Time:</th>                 <td>21:24:55</td>     <th>  Log-Likelihood:    </th> <td>-3.0704e+05</td>\n",
       "</tr>\n",
       "<tr>\n",
       "  <th>No. Observations:</th>      <td> 21597</td>      <th>  AIC:               </th>  <td>6.141e+05</td> \n",
       "</tr>\n",
       "<tr>\n",
       "  <th>Df Residuals:</th>          <td> 21595</td>      <th>  BIC:               </th>  <td>6.141e+05</td> \n",
       "</tr>\n",
       "<tr>\n",
       "  <th>Df Model:</th>              <td>     1</td>      <th>                     </th>      <td> </td>     \n",
       "</tr>\n",
       "<tr>\n",
       "  <th>Covariance Type:</th>      <td>nonrobust</td>    <th>                     </th>      <td> </td>     \n",
       "</tr>\n",
       "</table>\n",
       "<table class=\"simpletable\">\n",
       "<tr>\n",
       "      <td></td>        <th>coef</th>     <th>std err</th>      <th>t</th>      <th>P>|t|</th>  <th>[0.025</th>    <th>0.975]</th>  \n",
       "</tr>\n",
       "<tr>\n",
       "  <th>const</th>    <td> 4.885e+05</td> <td> 3136.895</td> <td>  155.718</td> <td> 0.000</td> <td> 4.82e+05</td> <td> 4.95e+05</td>\n",
       "</tr>\n",
       "<tr>\n",
       "  <th>basement</th> <td> 1.346e+05</td> <td> 5054.909</td> <td>   26.623</td> <td> 0.000</td> <td> 1.25e+05</td> <td> 1.44e+05</td>\n",
       "</tr>\n",
       "</table>\n",
       "<table class=\"simpletable\">\n",
       "<tr>\n",
       "  <th>Omnibus:</th>       <td>19054.390</td> <th>  Durbin-Watson:     </th>  <td>   1.964</td>  \n",
       "</tr>\n",
       "<tr>\n",
       "  <th>Prob(Omnibus):</th>  <td> 0.000</td>   <th>  Jarque-Bera (JB):  </th> <td>1138734.509</td>\n",
       "</tr>\n",
       "<tr>\n",
       "  <th>Skew:</th>           <td> 4.002</td>   <th>  Prob(JB):          </th>  <td>    0.00</td>  \n",
       "</tr>\n",
       "<tr>\n",
       "  <th>Kurtosis:</th>       <td>37.661</td>   <th>  Cond. No.          </th>  <td>    2.44</td>  \n",
       "</tr>\n",
       "</table><br/><br/>Warnings:<br/>[1] Standard Errors assume that the covariance matrix of the errors is correctly specified."
      ],
      "text/plain": [
       "<class 'statsmodels.iolib.summary.Summary'>\n",
       "\"\"\"\n",
       "                            OLS Regression Results                            \n",
       "==============================================================================\n",
       "Dep. Variable:                  price   R-squared:                       0.032\n",
       "Model:                            OLS   Adj. R-squared:                  0.032\n",
       "Method:                 Least Squares   F-statistic:                     708.8\n",
       "Date:                Sun, 05 May 2019   Prob (F-statistic):          1.12e-153\n",
       "Time:                        21:24:55   Log-Likelihood:            -3.0704e+05\n",
       "No. Observations:               21597   AIC:                         6.141e+05\n",
       "Df Residuals:                   21595   BIC:                         6.141e+05\n",
       "Df Model:                           1                                         \n",
       "Covariance Type:            nonrobust                                         \n",
       "==============================================================================\n",
       "                 coef    std err          t      P>|t|      [0.025      0.975]\n",
       "------------------------------------------------------------------------------\n",
       "const       4.885e+05   3136.895    155.718      0.000    4.82e+05    4.95e+05\n",
       "basement    1.346e+05   5054.909     26.623      0.000    1.25e+05    1.44e+05\n",
       "==============================================================================\n",
       "Omnibus:                    19054.390   Durbin-Watson:                   1.964\n",
       "Prob(Omnibus):                  0.000   Jarque-Bera (JB):          1138734.509\n",
       "Skew:                           4.002   Prob(JB):                         0.00\n",
       "Kurtosis:                      37.661   Cond. No.                         2.44\n",
       "==============================================================================\n",
       "\n",
       "Warnings:\n",
       "[1] Standard Errors assume that the covariance matrix of the errors is correctly specified.\n",
       "\"\"\""
      ]
     },
     "execution_count": 71,
     "metadata": {},
     "output_type": "execute_result"
    }
   ],
   "source": [
    "features = sm.add_constant(converted_bsmt.basement)\n",
    "\n",
    "sm.OLS(converted_bsmt.price,features).fit().summary()"
   ]
  },
  {
   "cell_type": "code",
   "execution_count": 74,
   "metadata": {},
   "outputs": [
    {
     "data": {
      "text/plain": [
       "dtype('O')"
      ]
     },
     "execution_count": 74,
     "metadata": {},
     "output_type": "execute_result"
    }
   ],
   "source": [
    "#considering the p is low enough, I would say that it then indicates meaning rather than missing value\n",
    "#final decision: set to median and convert col to float\n",
    "#now on to date column\n",
    "obj_df.date.dtype\n"
   ]
  },
  {
   "cell_type": "code",
   "execution_count": 75,
   "metadata": {},
   "outputs": [
    {
     "data": {
      "text/plain": [
       "0        10/13/2014\n",
       "1         12/9/2014\n",
       "2         2/25/2015\n",
       "3         12/9/2014\n",
       "4         2/18/2015\n",
       "5         5/12/2014\n",
       "6         6/27/2014\n",
       "7         1/15/2015\n",
       "8         4/15/2015\n",
       "9         3/12/2015\n",
       "10         4/3/2015\n",
       "11        5/27/2014\n",
       "12        5/28/2014\n",
       "13        10/7/2014\n",
       "14        3/12/2015\n",
       "15        1/24/2015\n",
       "16        7/31/2014\n",
       "17        5/29/2014\n",
       "18        12/5/2014\n",
       "19        4/24/2015\n",
       "20        5/14/2014\n",
       "21        8/26/2014\n",
       "22         7/3/2014\n",
       "23        5/16/2014\n",
       "24       11/20/2014\n",
       "25        11/3/2014\n",
       "26        6/26/2014\n",
       "27        12/1/2014\n",
       "28        6/24/2014\n",
       "29         3/2/2015\n",
       "            ...    \n",
       "21567     6/10/2014\n",
       "21568     12/2/2014\n",
       "21569     8/28/2014\n",
       "21570    10/15/2014\n",
       "21571      3/5/2015\n",
       "21572    11/13/2014\n",
       "21573     9/10/2014\n",
       "21574     5/14/2014\n",
       "21575     10/2/2014\n",
       "21576     4/16/2015\n",
       "21577     3/17/2015\n",
       "21578    10/17/2014\n",
       "21579    10/31/2014\n",
       "21580     8/13/2014\n",
       "21581     4/21/2015\n",
       "21582    10/13/2014\n",
       "21583     9/15/2014\n",
       "21584    10/15/2014\n",
       "21585      4/7/2015\n",
       "21586     6/26/2014\n",
       "21587     8/25/2014\n",
       "21588     1/26/2015\n",
       "21589    10/14/2014\n",
       "21590     3/26/2015\n",
       "21591     2/19/2015\n",
       "21592     5/21/2014\n",
       "21593     2/23/2015\n",
       "21594     6/23/2014\n",
       "21595     1/16/2015\n",
       "21596    10/15/2014\n",
       "Name: date, Length: 21597, dtype: object"
      ]
     },
     "execution_count": 75,
     "metadata": {},
     "output_type": "execute_result"
    }
   ],
   "source": [
    "obj_df.date"
   ]
  },
  {
   "cell_type": "code",
   "execution_count": 80,
   "metadata": {},
   "outputs": [
    {
     "data": {
      "text/plain": [
       "0       2014-10-13\n",
       "1       2014-12-09\n",
       "2       2015-02-25\n",
       "3       2014-12-09\n",
       "4       2015-02-18\n",
       "5       2014-05-12\n",
       "6       2014-06-27\n",
       "7       2015-01-15\n",
       "8       2015-04-15\n",
       "9       2015-03-12\n",
       "10      2015-04-03\n",
       "11      2014-05-27\n",
       "12      2014-05-28\n",
       "13      2014-10-07\n",
       "14      2015-03-12\n",
       "15      2015-01-24\n",
       "16      2014-07-31\n",
       "17      2014-05-29\n",
       "18      2014-12-05\n",
       "19      2015-04-24\n",
       "20      2014-05-14\n",
       "21      2014-08-26\n",
       "22      2014-07-03\n",
       "23      2014-05-16\n",
       "24      2014-11-20\n",
       "25      2014-11-03\n",
       "26      2014-06-26\n",
       "27      2014-12-01\n",
       "28      2014-06-24\n",
       "29      2015-03-02\n",
       "           ...    \n",
       "21567   2014-06-10\n",
       "21568   2014-12-02\n",
       "21569   2014-08-28\n",
       "21570   2014-10-15\n",
       "21571   2015-03-05\n",
       "21572   2014-11-13\n",
       "21573   2014-09-10\n",
       "21574   2014-05-14\n",
       "21575   2014-10-02\n",
       "21576   2015-04-16\n",
       "21577   2015-03-17\n",
       "21578   2014-10-17\n",
       "21579   2014-10-31\n",
       "21580   2014-08-13\n",
       "21581   2015-04-21\n",
       "21582   2014-10-13\n",
       "21583   2014-09-15\n",
       "21584   2014-10-15\n",
       "21585   2015-04-07\n",
       "21586   2014-06-26\n",
       "21587   2014-08-25\n",
       "21588   2015-01-26\n",
       "21589   2014-10-14\n",
       "21590   2015-03-26\n",
       "21591   2015-02-19\n",
       "21592   2014-05-21\n",
       "21593   2015-02-23\n",
       "21594   2014-06-23\n",
       "21595   2015-01-16\n",
       "21596   2014-10-15\n",
       "Name: date, Length: 21597, dtype: datetime64[ns]"
      ]
     },
     "execution_count": 80,
     "metadata": {},
     "output_type": "execute_result"
    }
   ],
   "source": [
    "#Simple enough. It converts to datetime without any errors\n",
    "pd.to_datetime(obj_df.date)"
   ]
  },
  {
   "cell_type": "code",
   "execution_count": null,
   "metadata": {},
   "outputs": [],
   "source": []
  }
 ],
 "metadata": {
  "kernelspec": {
   "display_name": "learn-env",
   "language": "python",
   "name": "learn-env"
  },
  "language_info": {
   "codemirror_mode": {
    "name": "ipython",
    "version": 3
   },
   "file_extension": ".py",
   "mimetype": "text/x-python",
   "name": "python",
   "nbconvert_exporter": "python",
   "pygments_lexer": "ipython3",
   "version": "3.6.6"
  }
 },
 "nbformat": 4,
 "nbformat_minor": 2
}
